{
 "cells": [
  {
   "cell_type": "code",
   "execution_count": 1,
   "metadata": {
    "ExecuteTime": {
     "end_time": "2024-08-16T01:57:41.754231Z",
     "start_time": "2024-08-16T01:57:41.126770Z"
    }
   },
   "outputs": [],
   "source": [
    "import cv2\n",
    "import mediapipe as mp\n",
    "import numpy as np\n",
    "import pickle"
   ]
  },
  {
   "cell_type": "code",
   "execution_count": 2,
   "metadata": {
    "ExecuteTime": {
     "end_time": "2024-08-16T01:57:42.298108Z",
     "start_time": "2024-08-16T01:57:41.754231Z"
    }
   },
   "outputs": [
    {
     "name": "stderr",
     "output_type": "stream",
     "text": [
      "c:\\Users\\dhanu\\Desktop\\Temp\\BSL\\mlenv\\Lib\\site-packages\\sklearn\\base.py:376: InconsistentVersionWarning: Trying to unpickle estimator SVC from version 1.5.1 when using version 1.5.2. This might lead to breaking code or invalid results. Use at your own risk. For more info please refer to:\n",
      "https://scikit-learn.org/stable/model_persistence.html#security-maintainability-limitations\n",
      "  warnings.warn(\n",
      "c:\\Users\\dhanu\\Desktop\\Temp\\BSL\\mlenv\\Lib\\site-packages\\sklearn\\base.py:376: InconsistentVersionWarning: Trying to unpickle estimator SVC from version 1.4.1.post1 when using version 1.5.2. This might lead to breaking code or invalid results. Use at your own risk. For more info please refer to:\n",
      "https://scikit-learn.org/stable/model_persistence.html#security-maintainability-limitations\n",
      "  warnings.warn(\n",
      "c:\\Users\\dhanu\\Desktop\\Temp\\BSL\\mlenv\\Lib\\site-packages\\google\\protobuf\\symbol_database.py:55: UserWarning: SymbolDatabase.GetPrototype() is deprecated. Please use message_factory.GetMessageClass() instead. SymbolDatabase.GetPrototype() will be removed soon.\n",
      "  warnings.warn('SymbolDatabase.GetPrototype() is deprecated. Please '\n",
      "c:\\Users\\dhanu\\Desktop\\Temp\\BSL\\mlenv\\Lib\\site-packages\\google\\protobuf\\symbol_database.py:55: UserWarning: SymbolDatabase.GetPrototype() is deprecated. Please use message_factory.GetMessageClass() instead. SymbolDatabase.GetPrototype() will be removed soon.\n",
      "  warnings.warn('SymbolDatabase.GetPrototype() is deprecated. Please '\n",
      "c:\\Users\\dhanu\\Desktop\\Temp\\BSL\\mlenv\\Lib\\site-packages\\google\\protobuf\\symbol_database.py:55: UserWarning: SymbolDatabase.GetPrototype() is deprecated. Please use message_factory.GetMessageClass() instead. SymbolDatabase.GetPrototype() will be removed soon.\n",
      "  warnings.warn('SymbolDatabase.GetPrototype() is deprecated. Please '\n",
      "c:\\Users\\dhanu\\Desktop\\Temp\\BSL\\mlenv\\Lib\\site-packages\\google\\protobuf\\symbol_database.py:55: UserWarning: SymbolDatabase.GetPrototype() is deprecated. Please use message_factory.GetMessageClass() instead. SymbolDatabase.GetPrototype() will be removed soon.\n",
      "  warnings.warn('SymbolDatabase.GetPrototype() is deprecated. Please '\n",
      "c:\\Users\\dhanu\\Desktop\\Temp\\BSL\\mlenv\\Lib\\site-packages\\google\\protobuf\\symbol_database.py:55: UserWarning: SymbolDatabase.GetPrototype() is deprecated. Please use message_factory.GetMessageClass() instead. SymbolDatabase.GetPrototype() will be removed soon.\n",
      "  warnings.warn('SymbolDatabase.GetPrototype() is deprecated. Please '\n",
      "c:\\Users\\dhanu\\Desktop\\Temp\\BSL\\mlenv\\Lib\\site-packages\\google\\protobuf\\symbol_database.py:55: UserWarning: SymbolDatabase.GetPrototype() is deprecated. Please use message_factory.GetMessageClass() instead. SymbolDatabase.GetPrototype() will be removed soon.\n",
      "  warnings.warn('SymbolDatabase.GetPrototype() is deprecated. Please '\n",
      "c:\\Users\\dhanu\\Desktop\\Temp\\BSL\\mlenv\\Lib\\site-packages\\google\\protobuf\\symbol_database.py:55: UserWarning: SymbolDatabase.GetPrototype() is deprecated. Please use message_factory.GetMessageClass() instead. SymbolDatabase.GetPrototype() will be removed soon.\n",
      "  warnings.warn('SymbolDatabase.GetPrototype() is deprecated. Please '\n",
      "c:\\Users\\dhanu\\Desktop\\Temp\\BSL\\mlenv\\Lib\\site-packages\\google\\protobuf\\symbol_database.py:55: UserWarning: SymbolDatabase.GetPrototype() is deprecated. Please use message_factory.GetMessageClass() instead. SymbolDatabase.GetPrototype() will be removed soon.\n",
      "  warnings.warn('SymbolDatabase.GetPrototype() is deprecated. Please '\n",
      "c:\\Users\\dhanu\\Desktop\\Temp\\BSL\\mlenv\\Lib\\site-packages\\google\\protobuf\\symbol_database.py:55: UserWarning: SymbolDatabase.GetPrototype() is deprecated. Please use message_factory.GetMessageClass() instead. SymbolDatabase.GetPrototype() will be removed soon.\n",
      "  warnings.warn('SymbolDatabase.GetPrototype() is deprecated. Please '\n",
      "c:\\Users\\dhanu\\Desktop\\Temp\\BSL\\mlenv\\Lib\\site-packages\\google\\protobuf\\symbol_database.py:55: UserWarning: SymbolDatabase.GetPrototype() is deprecated. Please use message_factory.GetMessageClass() instead. SymbolDatabase.GetPrototype() will be removed soon.\n",
      "  warnings.warn('SymbolDatabase.GetPrototype() is deprecated. Please '\n",
      "c:\\Users\\dhanu\\Desktop\\Temp\\BSL\\mlenv\\Lib\\site-packages\\google\\protobuf\\symbol_database.py:55: UserWarning: SymbolDatabase.GetPrototype() is deprecated. Please use message_factory.GetMessageClass() instead. SymbolDatabase.GetPrototype() will be removed soon.\n",
      "  warnings.warn('SymbolDatabase.GetPrototype() is deprecated. Please '\n",
      "c:\\Users\\dhanu\\Desktop\\Temp\\BSL\\mlenv\\Lib\\site-packages\\google\\protobuf\\symbol_database.py:55: UserWarning: SymbolDatabase.GetPrototype() is deprecated. Please use message_factory.GetMessageClass() instead. SymbolDatabase.GetPrototype() will be removed soon.\n",
      "  warnings.warn('SymbolDatabase.GetPrototype() is deprecated. Please '\n",
      "c:\\Users\\dhanu\\Desktop\\Temp\\BSL\\mlenv\\Lib\\site-packages\\google\\protobuf\\symbol_database.py:55: UserWarning: SymbolDatabase.GetPrototype() is deprecated. Please use message_factory.GetMessageClass() instead. SymbolDatabase.GetPrototype() will be removed soon.\n",
      "  warnings.warn('SymbolDatabase.GetPrototype() is deprecated. Please '\n"
     ]
    }
   ],
   "source": [
    "framerate = 0.0\n",
    "\n",
    "def image_processed(hand_img):\n",
    "    img_rgb = cv2.cvtColor(hand_img, cv2.COLOR_BGR2RGB)\n",
    "\n",
    "    mp_hands = mp.solutions.hands\n",
    "    hands = mp_hands.Hands(static_image_mode=False,\n",
    "                           max_num_hands=2, \n",
    "                           min_detection_confidence=0.5, \n",
    "                           min_tracking_confidence=0.5)\n",
    "    \n",
    "    output = hands.process(img_rgb)\n",
    "    hands.close()\n",
    "\n",
    "    landmarks_list = []\n",
    "    if output.multi_hand_landmarks:\n",
    "        for hand_landmarks in output.multi_hand_landmarks:\n",
    "            landmarks = [np.array([landmark.x, landmark.y, landmark.z]) for landmark in hand_landmarks.landmark]\n",
    "            landmarks = np.array(landmarks).flatten()\n",
    "            landmarks_list.append(landmarks)\n",
    "\n",
    "    return landmarks_list\n",
    "\n",
    "with open('one_hand_model.pkl', 'rb') as f:\n",
    "    one_hand_model = pickle.load(f)\n",
    "    \n",
    "with open('two_hand_model.pkl', 'rb') as f:\n",
    "    two_hand_model = pickle.load(f)\n",
    "\n",
    "cap = cv2.VideoCapture(0)\n",
    "\n",
    "if not cap.isOpened():\n",
    "    print(\"Cannot open camera\")\n",
    "    exit()\n",
    "\n",
    "frame_count = 0\n",
    "start_time = cv2.getTickCount()\n",
    "\n",
    "while True:\n",
    "    ret, frame = cap.read()\n",
    "    if not ret:\n",
    "        print(\"Can't receive frame (stream end?). Exiting ...\")\n",
    "        break\n",
    "\n",
    "    landmarks_list = image_processed(frame)\n",
    "\n",
    "    if len(landmarks_list) == 0:\n",
    "        output = \"PREDICTION\"\n",
    "    else:\n",
    "        if len(landmarks_list) == 1:\n",
    "            model = one_hand_model\n",
    "            data = np.array(landmarks_list[0]).reshape(1, -1)\n",
    "        elif len(landmarks_list) == 2:\n",
    "            model = two_hand_model\n",
    "            data = np.concatenate(landmarks_list[:2]).reshape(1, -1) if len(landmarks_list) > 1 else np.array(landmarks_list[0]).reshape(1, -1)\n",
    "            \n",
    "        y_pred = model.predict(data)\n",
    "        output = str(y_pred[0])\n",
    "        \n",
    "    frame_count += 1\n",
    "    current_time = cv2.getTickCount()\n",
    "    elapsed_time = (current_time - start_time) / cv2.getTickFrequency()\n",
    "    if elapsed_time > 1:\n",
    "        framerate = frame_count / elapsed_time\n",
    "        frame_count = 0\n",
    "        start_time = cv2.getTickCount()\n",
    "\n",
    "    frame = cv2.putText(frame, 'OUTPUT: ' + output, (50, 50), cv2.FONT_HERSHEY_SIMPLEX, 1.25, (255, 0, 0), 3, cv2.LINE_AA)\n",
    "    frame = cv2.putText(frame, f'FPS: {framerate:.2f}', (50, 150), cv2.FONT_HERSHEY_SIMPLEX, 1.25, (255, 0, 0), 3, cv2.LINE_AA)\n",
    "\n",
    "    cv2.imshow('frame', frame)\n",
    "    if cv2.waitKey(1) == ord('q'):\n",
    "        break\n",
    "\n",
    "cap.release()\n",
    "cv2.destroyAllWindows()"
   ]
  }
 ],
 "metadata": {
  "kernelspec": {
   "display_name": "Python 3",
   "language": "python",
   "name": "python3"
  },
  "language_info": {
   "codemirror_mode": {
    "name": "ipython",
    "version": 3
   },
   "file_extension": ".py",
   "mimetype": "text/x-python",
   "name": "python",
   "nbconvert_exporter": "python",
   "pygments_lexer": "ipython3",
   "version": "3.11.9"
  }
 },
 "nbformat": 4,
 "nbformat_minor": 2
}
