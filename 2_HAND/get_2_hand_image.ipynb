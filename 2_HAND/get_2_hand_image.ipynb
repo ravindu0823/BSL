{
 "cells": [
  {
   "cell_type": "code",
   "execution_count": null,
   "metadata": {},
   "outputs": [],
   "source": [
    "import cv2\n",
    "from pathlib import Path"
   ]
  },
  {
   "cell_type": "code",
   "execution_count": null,
   "metadata": {},
   "outputs": [],
   "source": [
    "def get_image():\n",
    "    Class = 'Test'\n",
    "    Path('2_HAND_DATASET/'+Class).mkdir(parents=True, exist_ok=True)\n",
    "    cap = cv2.VideoCapture(0)\n",
    "    if not cap.isOpened():\n",
    "        print(\"Cannot Open Camera\")\n",
    "        exit()\n",
    "    i = 0    \n",
    "    while True:\n",
    "        ret, frame = cap.read()\n",
    "        if not ret:\n",
    "            print(\"Cannot Receive Frame. Exiting ...\")\n",
    "            break\n",
    "        cv2.putText(frame, 'Position your hands within the frame', (10, 50), cv2.FONT_HERSHEY_SIMPLEX, \n",
    "                   1, (255, 255, 255), 2, cv2.LINE_AA)\n",
    "        i += 1\n",
    "        if i % 5 == 0:\n",
    "            cv2.imwrite('2_HAND_DATASET/'+Class+'/'+str(i)+'.png', frame)\n",
    "        cv2.imshow('frame', frame)\n",
    "        if cv2.waitKey(1) == ord('q') or i > 5000:\n",
    "            break\n",
    "    cap.release()\n",
    "    cv2.destroyAllWindows()\n",
    "\n",
    "if __name__ == \"__main__\":\n",
    "    get_image()"
   ]
  }
 ],
 "metadata": {
  "kernelspec": {
   "display_name": "Python 3",
   "language": "python",
   "name": "python3"
  },
  "language_info": {
   "codemirror_mode": {
    "name": "ipython",
    "version": 3
   },
   "file_extension": ".py",
   "mimetype": "text/x-python",
   "name": "python",
   "nbconvert_exporter": "python",
   "pygments_lexer": "ipython3",
   "version": "3.11.8"
  }
 },
 "nbformat": 4,
 "nbformat_minor": 2
}
